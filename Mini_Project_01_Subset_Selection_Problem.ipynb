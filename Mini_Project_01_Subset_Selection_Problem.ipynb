{
  "nbformat": 4,
  "nbformat_minor": 0,
  "metadata": {
    "colab": {
      "provenance": [],
      "toc_visible": true,
      "authorship_tag": "ABX9TyOfmjrsk/KeFQ1XB2Pq/Jix",
      "include_colab_link": true
    },
    "kernelspec": {
      "name": "python3",
      "display_name": "Python 3"
    },
    "language_info": {
      "name": "python"
    }
  },
  "cells": [
    {
      "cell_type": "markdown",
      "metadata": {
        "id": "view-in-github",
        "colab_type": "text"
      },
      "source": [
        "<a href=\"https://colab.research.google.com/github/the-singingship/Mini-Project-01-Subset-Selection-Problem/blob/main/Mini_Project_01_Subset_Selection_Problem.ipynb\" target=\"_parent\"><img src=\"https://colab.research.google.com/assets/colab-badge.svg\" alt=\"Open In Colab\"/></a>"
      ]
    },
    {
      "cell_type": "markdown",
      "source": [
        "# Mini Project-01: Subset Selection Problem"
      ],
      "metadata": {
        "id": "AT-n94vV1jq_"
      }
    },
    {
      "cell_type": "markdown",
      "source": [
        "Find all the subsets from a set of numbers whose sum is zero. Constraint: Subset size must be 5\n",
        "\n",
        "Set={-12, -3, -6, 7, 2, -2, 6, 3, 9, -7, -5, -8, 1, 11, -9, -4}\n",
        "\n"
      ],
      "metadata": {
        "id": "bKuPR7xR1mlT"
      }
    },
    {
      "cell_type": "code",
      "source": [
        "import random as r\n",
        "\n",
        "Set         = set([-12, -3, -6, 7, 2, -2, 6, 3, 9, -7, -5, -8, 1, 11, -9, -4])\n",
        "SetSize     = 5\n",
        "ResultList  = set()    # Store Result List i.e. list of sets whose sum is zero\n",
        "Iterations  = 1000    # Number of Inerations\n",
        "\n",
        "# Loop till number of Iterations\n",
        "for i in range(Iterations):\n",
        "    # Select number of elements from Set\n",
        "    Chromosome = r.sample(Set,SetSize)\n",
        "\n",
        "    # Sum the number of elements in the Chromosome\n",
        "    if sum(Chromosome) == 0:\n",
        "        ResultList.add(tuple(Chromosome))\n",
        "\n",
        "# Print all the sets whose sum is zero\n",
        "for r in ResultList:\n",
        "\tprint (r)\n",
        "\n",
        "# Print total sets\n",
        "print (\"\\nTotal Sets: \", len(ResultList), \"\\n\")"
      ],
      "metadata": {
        "colab": {
          "base_uri": "https://localhost:8080/"
        },
        "id": "NspGZ1lO1rHl",
        "outputId": "e646042a-7ec1-4d06-8ad5-49495a922c1d"
      },
      "execution_count": 3,
      "outputs": [
        {
          "output_type": "stream",
          "name": "stdout",
          "text": [
            "(-6, -4, 6, 7, -3)\n",
            "(-9, -6, 7, -3, 11)\n",
            "(3, -7, 7, 2, -5)\n",
            "(3, 1, 7, -5, -6)\n",
            "(-8, 3, -12, 6, 11)\n",
            "(6, 7, -7, 2, -8)\n",
            "(-8, 2, 9, 1, -4)\n",
            "(-6, 6, 11, -2, -9)\n",
            "(-2, -7, 11, 1, -3)\n",
            "(-4, 7, 3, -12, 6)\n",
            "(-4, 6, 3, -2, -3)\n",
            "(3, 7, -4, -7, 1)\n",
            "(3, -8, -3, 7, 1)\n",
            "(-12, 3, -6, 6, 9)\n",
            "(3, 7, -4, -8, 2)\n",
            "(9, -8, -3, -4, 6)\n",
            "(-4, 3, 11, -12, 2)\n",
            "(-5, 11, 2, 1, -9)\n",
            "(3, -3, 7, -9, 2)\n",
            "(2, -7, 11, 6, -12)\n",
            "(7, -6, 1, -5, 3)\n",
            "(-7, 9, 1, -9, 6)\n",
            "(6, -7, 7, 2, -8)\n",
            "(11, 3, 1, -7, -8)\n",
            "(-7, 11, -8, -3, 7)\n",
            "\n",
            "Total Sets:  25 \n",
            "\n"
          ]
        },
        {
          "output_type": "stream",
          "name": "stderr",
          "text": [
            "<ipython-input-3-53b29a5fbf4b>:11: DeprecationWarning: Sampling from a set deprecated\n",
            "since Python 3.9 and will be removed in a subsequent version.\n",
            "  Chromosome = r.sample(Set,SetSize)\n"
          ]
        }
      ]
    },
    {
      "cell_type": "markdown",
      "source": [
        "Find all the subsets from a set of numbers whose sum is zero. Constraint: Subset size must be 3 to 6 only\n",
        "\n",
        "Set={-12, -3, -6, 7, 2, -2, 6, 3, 9, -7, -5, -8, 1, 11, -9, -4}\n"
      ],
      "metadata": {
        "id": "E4I3_ccA1rgY"
      }
    },
    {
      "cell_type": "code",
      "source": [
        "import random as r\n",
        "\n",
        "Set         = set([-12, -3, -6, 7, 2, -2, 6, 3, 9, -7, -5, -8, 1, 11, -9, -4])\n",
        "SetLB       = 3\n",
        "SetUB       = 6\n",
        "ResultList  = set()    # Store Result List i.e. list of sets whose sum is zero\n",
        "Iterations  = 1000   # Number of Inerations\n",
        "\n",
        "# Loop till number of Iterations\n",
        "for i in range(Iterations):\n",
        "    # Select set size randomly\n",
        "    SetSize = r.randint(SetLB,SetUB)\n",
        "\n",
        "    # Select number of elements from Set\n",
        "    Chromosome = r.sample(Set,SetSize)\n",
        "    Chromosome.sort()\n",
        "\n",
        "    # Sum the number of elements in the Chromosome\n",
        "    if sum(Chromosome) == 0:\n",
        "        ResultList.add(tuple(Chromosome))\n",
        "\n",
        "# Print all the sets whose sum is zero\n",
        "for r in ResultList:\n",
        "\tprint (r)\n",
        "\n",
        "# Print total sets\n",
        "print (\"\\nTotal Sets: \", len(ResultList))"
      ],
      "metadata": {
        "colab": {
          "base_uri": "https://localhost:8080/"
        },
        "id": "WDYOcfoK1wDc",
        "outputId": "041602dd-5e5a-4fb7-b5dc-fce4e2d3650f"
      },
      "execution_count": 4,
      "outputs": [
        {
          "output_type": "stream",
          "name": "stdout",
          "text": [
            "(-6, -5, 1, 3, 7)\n",
            "(-5, 2, 3)\n",
            "(-12, 3, 9)\n",
            "(-7, -4, 1, 3, 7)\n",
            "(-9, -7, -4, 9, 11)\n",
            "(-8, -5, -4, -3, 9, 11)\n",
            "(-6, -4, 1, 2, 7)\n",
            "(-5, -4, 2, 7)\n",
            "(-12, 2, 3, 7)\n",
            "(-9, -6, 1, 2, 3, 9)\n",
            "(-12, -4, 7, 9)\n",
            "(-5, -3, -2, 3, 7)\n",
            "(-8, 1, 7)\n",
            "(-7, -4, 11)\n",
            "(-12, -7, 1, 2, 7, 9)\n",
            "(-9, -7, 7, 9)\n",
            "(-6, -3, 9)\n",
            "(-12, -8, 3, 6, 11)\n",
            "(-6, -5, 11)\n",
            "(-8, -7, 6, 9)\n",
            "(-7, -6, 2, 11)\n",
            "(-8, -5, -3, 1, 6, 9)\n",
            "(-9, 3, 6)\n",
            "(-12, -9, -5, 6, 9, 11)\n",
            "(-5, -4, 9)\n",
            "\n",
            "Total Sets:  25\n"
          ]
        },
        {
          "output_type": "stream",
          "name": "stderr",
          "text": [
            "<ipython-input-4-3b494322f977>:15: DeprecationWarning: Sampling from a set deprecated\n",
            "since Python 3.9 and will be removed in a subsequent version.\n",
            "  Chromosome = r.sample(Set,SetSize)\n"
          ]
        }
      ]
    }
  ]
}